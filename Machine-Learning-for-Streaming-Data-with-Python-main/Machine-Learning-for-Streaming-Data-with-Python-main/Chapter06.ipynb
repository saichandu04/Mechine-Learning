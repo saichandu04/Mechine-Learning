{
 "cells": [
  {
   "cell_type": "code",
   "execution_count": null,
   "id": "6ac90368-4736-44e0-8488-27c553556f12",
   "metadata": {},
   "outputs": [],
   "source": [
    "import pandas as pd\n",
    "\n",
    "# example to classify human vs animal\n",
    "\n",
    "#dataset with one variable\n",
    "can_speak = [True,True,True,True,True,True,True,False,False,False]\n",
    "has_feathers = [False,False,False,False,False,True,True,False,False,False]\n",
    "is_human = [True,True,True,True,True,False,False,False,False,False]\n",
    "\n",
    "data = pd.DataFrame({'can_speak': can_speak, 'has_feathers': has_feathers, 'is_human': is_human})\n",
    "data\n"
   ]
  },
  {
   "cell_type": "code",
   "execution_count": null,
   "id": "ea92476b-e5a3-4c1e-acae-6313903b4b5a",
   "metadata": {},
   "outputs": [],
   "source": [
    "def self_made_decision_tree(observation):\n",
    "    if observation.can_speak:\n",
    "        if not observation.has_feathers:\n",
    "            return 'human'\n",
    "    \n",
    "    return 'not human'\n",
    "\n",
    "for i,row in data.iterrows():\n",
    "    print(self_made_decision_tree(row))\n"
   ]
  },
  {
   "cell_type": "code",
   "execution_count": null,
   "id": "20b32b4c-6ee0-424f-a965-f94da182f6a3",
   "metadata": {},
   "outputs": [],
   "source": [
    "from sklearn.datasets import make_blobs\n",
    "X,y=make_blobs(shuffle=True,centers=2,n_samples=2000)\n"
   ]
  },
  {
   "cell_type": "code",
   "execution_count": null,
   "id": "8d8c480c-0aae-4c8d-8e83-0dbaf95c10c3",
   "metadata": {},
   "outputs": [],
   "source": [
    "import matplotlib.pyplot as plt\n",
    "plt.scatter(X[:,0], X[:,1], c=y)\n"
   ]
  },
  {
   "cell_type": "code",
   "execution_count": null,
   "id": "390bde08-21a7-4d3a-b7b9-4d5f9111a993",
   "metadata": {},
   "outputs": [],
   "source": [
    "from sklearn.model_selection import train_test_split\n",
    "X_train, X_test, y_train, y_test = train_test_split(X, y, test_size=0.33, random_state=42)\n"
   ]
  },
  {
   "cell_type": "code",
   "execution_count": null,
   "id": "02d1179e-a9c4-4966-9332-9adcf2dad3b3",
   "metadata": {},
   "outputs": [],
   "source": [
    "!pip install river\n",
    "from river import linear_model\n",
    "\n",
    "model=linear_model.LogisticRegression()\n",
    "\n",
    "for x_i,y_i in zip(X_train,y_train):  \n",
    "    x_json = {'val1': x_i[0], 'val2': x_i[1]}\n",
    "    print(x_json, y_i)\n",
    "    model.learn_one(x_json,y_i)\n"
   ]
  },
  {
   "cell_type": "code",
   "execution_count": null,
   "id": "e03b6b7d-af56-44d2-a075-c77dcfcb642e",
   "metadata": {},
   "outputs": [],
   "source": [
    "import pandas as pd\n",
    "preds = model.predict_many(pd.DataFrame(X_test,columns=['val1', 'val2']))\n"
   ]
  },
  {
   "cell_type": "code",
   "execution_count": null,
   "id": "4dedb97b-112a-4789-a76c-c103fb8de693",
   "metadata": {},
   "outputs": [],
   "source": [
    "from sklearn.metrics import accuracy_score\n",
    "accuracy_score(y_test, preds)\n"
   ]
  },
  {
   "cell_type": "code",
   "execution_count": null,
   "id": "f934e8a7-3401-4000-a938-178a1e72f74e",
   "metadata": {},
   "outputs": [],
   "source": [
    "# make data\n",
    "from sklearn.datasets import make_blobs\n",
    "X,y=make_blobs(shuffle=True,centers=2,n_samples=2000)\n",
    "\n",
    "# train test split\n",
    "from sklearn.model_selection import train_test_split\n",
    "X_train, X_test, y_train, y_test = train_test_split(X, y, test_size=0.33, random_state=42)\n",
    "\n",
    "# build the model\n",
    "from river import linear_model\n",
    "model=linear_model.Perceptron()\n",
    "\n",
    "# fit the model\n",
    "for x_i,y_i in zip(X_train,y_train):\n",
    "    x_json = {'val1': x_i[0], 'val2': x_i[1]}\n",
    "    model.learn_one(x_json,y_i)\n",
    "    \n",
    "# predict on the test set\n",
    "import pandas as pd\n",
    "preds = model.predict_many(pd.DataFrame(X_test,columns=['val1', 'val2']))\n",
    "\n",
    "# compute accuracy\n",
    "from sklearn.metrics import accuracy_score\n",
    "accuracy_score(y_test, preds) \n"
   ]
  },
  {
   "cell_type": "code",
   "execution_count": null,
   "id": "5e7c0cee-16cf-497b-ab06-8c4c861d1f21",
   "metadata": {},
   "outputs": [],
   "source": [
    "# make data\n",
    "from sklearn.datasets import make_classification\n",
    "X,y=make_classification(shuffle=True,n_samples=2000)\n",
    "\n",
    "pd.DataFrame(X).head()\n"
   ]
  },
  {
   "cell_type": "code",
   "execution_count": null,
   "id": "82236f33-cb59-405b-b69e-be8264760000",
   "metadata": {},
   "outputs": [],
   "source": [
    "# train test split\n",
    "from sklearn.model_selection import train_test_split\n",
    "X_train, X_test, y_train, y_test = train_test_split(X, y, test_size=0.33, random_state=42)\n"
   ]
  },
  {
   "cell_type": "code",
   "execution_count": null,
   "id": "b507c152-0cc3-4893-a5bd-153f4723a731",
   "metadata": {},
   "outputs": [],
   "source": [
    "from river import ensemble\n",
    "model = ensemble.AdaptiveRandomForestClassifier()\n",
    "\n",
    "# fit the model\n",
    "for x_i,y_i in zip(X_train,y_train):\n",
    "    x_json = {'val'+str(i): x for i,x in enumerate(x_i)}\n",
    "    model.learn_one(x_json,y_i)\n"
   ]
  },
  {
   "cell_type": "code",
   "execution_count": null,
   "id": "45afda87-def7-45c4-b8ea-4eb21445f7a9",
   "metadata": {},
   "outputs": [],
   "source": [
    "# predict on the test set\n",
    "import pandas as pd\n",
    "preds = []\n",
    "for x_i in X_test:\n",
    "    x_json = {'val'+str(i): x for i,x in enumerate(x_i)}\n",
    "    preds.append(model.predict_one(x_json))\n"
   ]
  },
  {
   "cell_type": "code",
   "execution_count": null,
   "id": "47b12a82-263f-4bf6-8258-dcd9ceebd14d",
   "metadata": {},
   "outputs": [],
   "source": [
    "# compute accuracy\n",
    "from sklearn.metrics import accuracy_score\n",
    "accuracy_score(y_test, preds)\n"
   ]
  },
  {
   "cell_type": "code",
   "execution_count": null,
   "id": "64e34214-0895-4a1d-b08d-4cff1c18c4ba",
   "metadata": {},
   "outputs": [],
   "source": [
    "# classification report\n",
    "from sklearn.metrics import classification_report\n",
    "print(classification_report(y_test, preds))\n"
   ]
  },
  {
   "cell_type": "code",
   "execution_count": null,
   "id": "e61cb939-9851-43e0-94c5-473c0597770f",
   "metadata": {},
   "outputs": [],
   "source": [
    "# make data\n",
    "from sklearn.datasets import make_classification\n",
    "X,y=make_classification(shuffle=True,n_samples=2000)\n",
    "\n",
    "# train test split\n",
    "from sklearn.model_selection import train_test_split\n",
    "X_train, X_test, y_train, y_test = train_test_split(X, y, test_size=0.33, random_state=42)\n",
    "\n",
    "from river import linear_model\n",
    "\n",
    "model = linear_model.ALMAClassifier()\n",
    "\n",
    "# fit the model\n",
    "for x_i,y_i in zip(X_train,y_train):\n",
    "    x_json = {'val'+str(i): x for i,x in enumerate(x_i)}\n",
    "    model.learn_one(x_json,y_i)\n",
    "    \n",
    "# predict on the test set\n",
    "import pandas as pd\n",
    "preds = []\n",
    "for x_i in X_test:\n",
    "    x_json = {'val'+str(i): x for i,x in enumerate(x_i)}\n",
    "    preds.append(model.predict_one(x_json))\n",
    "\n",
    "# compute accuracy\n",
    "from sklearn.metrics import accuracy_score\n",
    "accuracy_score(y_test, preds)\n"
   ]
  },
  {
   "cell_type": "code",
   "execution_count": null,
   "id": "eddaca08-fbe9-4ad9-9740-37c674d84c67",
   "metadata": {},
   "outputs": [],
   "source": [
    "# classification report\n",
    "from sklearn.metrics import classification_report\n",
    "print(classification_report(y_test, preds))\n"
   ]
  },
  {
   "cell_type": "code",
   "execution_count": null,
   "id": "be2c82c5-0147-4365-aca6-776db2c21d40",
   "metadata": {},
   "outputs": [],
   "source": [
    "# make data\n",
    "from sklearn.datasets import make_classification\n",
    "X,y=make_classification(shuffle=True,n_samples=2000)\n",
    "\n",
    "# train test split\n",
    "from sklearn.model_selection import train_test_split\n",
    "X_train, X_test, y_train, y_test = train_test_split(X, y, test_size=0.33, random_state=42)\n",
    "\n",
    "from river import linear_model\n",
    "\n",
    "model = linear_model.PAClassifier()\n",
    "\n",
    "# fit the model\n",
    "for x_i,y_i in zip(X_train,y_train):\n",
    "    x_json = {'val'+str(i): x for i,x in enumerate(x_i)}\n",
    "    model.learn_one(x_json,y_i)\n",
    "    \n",
    "# predict on the test set\n",
    "import pandas as pd\n",
    "preds = []\n",
    "for x_i in X_test:\n",
    "    x_json = {'val'+str(i): x for i,x in enumerate(x_i)}\n",
    "    preds.append(model.predict_one(x_json))\n",
    "\n",
    "# compute accuracy\n",
    "from sklearn.metrics import accuracy_score\n",
    "accuracy_score(y_test, preds)\n"
   ]
  },
  {
   "cell_type": "code",
   "execution_count": null,
   "id": "7ca1ba44-f89f-466f-83a2-ef9aac4aea32",
   "metadata": {},
   "outputs": [],
   "source": []
  }
 ],
 "metadata": {
  "kernelspec": {
   "display_name": "Python 3",
   "language": "python",
   "name": "python3"
  },
  "language_info": {
   "codemirror_mode": {
    "name": "ipython",
    "version": 3
   },
   "file_extension": ".py",
   "mimetype": "text/x-python",
   "name": "python",
   "nbconvert_exporter": "python",
   "pygments_lexer": "ipython3",
   "version": "3.8.8"
  }
 },
 "nbformat": 4,
 "nbformat_minor": 5
}
