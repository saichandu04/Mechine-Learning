{
 "cells": [
  {
   "cell_type": "code",
   "execution_count": null,
   "id": "f6377de5-6d00-45a6-b26c-c5ce2514bc91",
   "metadata": {},
   "outputs": [],
   "source": [
    "import pandas as pd\n",
    "data_batch = pd.DataFrame({\n",
    "'temperature': [10, 11, 10, 11, 12, 11, 10, 9, 10, 11, 12, 11, 9, 12, 11],\n",
    "    'pH': [5, 5.5, 6, 5, 4.5, 5, 4.5, 5, 4.5, 5, 4, 4.5, 5, 4.5, 6]\n",
    "})\n",
    "\n",
    "print(data_batch)\n"
   ]
  },
  {
   "cell_type": "code",
   "execution_count": null,
   "id": "cb3959ba-976a-4d51-9903-bce9d5be235c",
   "metadata": {},
   "outputs": [],
   "source": [
    "data_iterable = data_batch.iterrows()\n",
    "\n",
    "for i,new_datapoint in data_iterable:\n",
    "    print(new_datapoint.to_json())\n"
   ]
  },
  {
   "cell_type": "code",
   "execution_count": null,
   "id": "e5b6c0eb-d8d0-47cf-a4f4-27f5e0dec9b0",
   "metadata": {},
   "outputs": [],
   "source": [
    "def super_simple_alert(datapoint):\n",
    "    if datapoint['temperature'] < 10:\n",
    "        print('this is a real time alert. temp too low')\n"
   ]
  },
  {
   "cell_type": "code",
   "execution_count": null,
   "id": "a2b2e882-bd03-4190-8f4f-52743a2f1ad6",
   "metadata": {},
   "outputs": [],
   "source": [
    "data_iterable = data_batch.iterrows()\n",
    "\n",
    "for i,new_datapoint in data_iterable:\n",
    "    print(new_datapoint.to_json())\n",
    "    super_simple_alert(new_datapoint)\n"
   ]
  },
  {
   "cell_type": "code",
   "execution_count": null,
   "id": "c4348202-ca5b-4702-b5a9-cb1b03bcebc0",
   "metadata": {},
   "outputs": [],
   "source": [
    "def super_simple_alert(datapoint):\n",
    "    if datapoint['temperature'] < 10:\n",
    "        print('this is a real time alert. temp too low')\n",
    "    if datapoint['pH'] > 5.5:\n",
    "        print('this is a real time alert. pH too high')\n"
   ]
  },
  {
   "cell_type": "code",
   "execution_count": null,
   "id": "74850f1e-0b41-410f-aaca-dc4ea4827fc2",
   "metadata": {},
   "outputs": [],
   "source": [
    "data_iterable = data_batch.iterrows()\n",
    "\n",
    "for i,new_datapoint in data_iterable:\n",
    "    print(new_datapoint.to_json())\n",
    "    super_simple_alert(new_datapoint)\n"
   ]
  }
 ],
 "metadata": {
  "kernelspec": {
   "display_name": "Python 3",
   "language": "python",
   "name": "python3"
  },
  "language_info": {
   "codemirror_mode": {
    "name": "ipython",
    "version": 3
   },
   "file_extension": ".py",
   "mimetype": "text/x-python",
   "name": "python",
   "nbconvert_exporter": "python",
   "pygments_lexer": "ipython3",
   "version": "3.8.8"
  }
 },
 "nbformat": 4,
 "nbformat_minor": 5
}
