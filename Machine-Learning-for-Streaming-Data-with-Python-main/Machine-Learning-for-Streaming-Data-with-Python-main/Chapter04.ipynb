{
 "cells": [
  {
   "cell_type": "code",
   "execution_count": null,
   "id": "aa24de18-c2c5-4536-90eb-78839bfcadd2",
   "metadata": {},
   "outputs": [],
   "source": [
    "#iris dataset classification example\n",
    "import pandas as pd\n",
    "colnames = ['sepal_length','sepal_width','petal_length','petal_width','class']\n",
    "data = pd.read_csv('https://archive.ics.uci.edu/ml/machine-learning-databases/iris/iris.data', names=colnames)\n",
    "data\n"
   ]
  },
  {
   "cell_type": "code",
   "execution_count": null,
   "id": "7f459264-7175-4b9d-b11f-f99827052bc5",
   "metadata": {},
   "outputs": [],
   "source": [
    "data['setosa'] = data['class'] == 'Iris-setosa'\n",
    "data['setosa']\n"
   ]
  },
  {
   "cell_type": "code",
   "execution_count": null,
   "id": "26300152-4acc-45b6-9574-c29bc2765ab2",
   "metadata": {},
   "outputs": [],
   "source": [
    "# convert to streaming dataset\n",
    "for i,row in data.sample(1).iterrows():\n",
    "    X = row[['sepal_length', 'sepal_width', 'petal_length', 'petal_width']]\n",
    "    X = X.to_dict()\n",
    "    \n",
    "    y = row['setosa']\n",
    "    \n",
    "    print(X)\n",
    "    print(y)\n",
    "    break\n"
   ]
  },
  {
   "cell_type": "code",
   "execution_count": null,
   "id": "025b68f6-89d8-42ae-ab43-fbd70bb9f05e",
   "metadata": {},
   "outputs": [],
   "source": [
    "!pip install river\n",
    "from river import linear_model\n",
    "\n",
    "model =  linear_model.LogisticRegression()\n",
    "for i,row in data.sample(frac=1).iterrows():\n",
    "    X = row[['sepal_length', 'sepal_width', 'petal_length', 'petal_width']]\n",
    "    X = X.to_dict()\n",
    "    y = row['setosa']\n",
    "        \n",
    "    model.learn_one(X, y)\n"
   ]
  },
  {
   "cell_type": "code",
   "execution_count": null,
   "id": "eec685fe-0908-49b8-b344-44447d75dc5e",
   "metadata": {},
   "outputs": [],
   "source": [
    "preds = model.predict_many(data[['sepal_length', 'sepal_width', 'petal_length', 'petal_width']])\n",
    "print(preds)\n"
   ]
  },
  {
   "cell_type": "code",
   "execution_count": null,
   "id": "239922bb-ad2c-4b5d-be9f-6a9adc12e0f8",
   "metadata": {},
   "outputs": [],
   "source": [
    "from sklearn.metrics import accuracy_score\n",
    "accuracy_score(data['setosa'], preds)\n"
   ]
  },
  {
   "cell_type": "code",
   "execution_count": null,
   "id": "4e4ad42a-655b-420a-89c2-11e11a66d894",
   "metadata": {},
   "outputs": [],
   "source": [
    "# add a stratified train test split\n",
    "from sklearn.model_selection import train_test_split\n",
    "train,test = train_test_split(data, stratify =data['setosa'])\n"
   ]
  },
  {
   "cell_type": "code",
   "execution_count": null,
   "id": "22432325-d0a4-4def-aff4-31c85455fa56",
   "metadata": {},
   "outputs": [],
   "source": [
    "from river import linear_model,metrics\n",
    "\n",
    "model =  linear_model.LogisticRegression()\n",
    "correct = []\n",
    "\n",
    "for i,row in train.sample(frac=1).iterrows():\n",
    "    X = row[['sepal_length', 'sepal_width', 'petal_length', 'petal_width']]\n",
    "    X = X.to_dict()\n",
    "    \n",
    "    y = row['setosa']\n",
    "    \n",
    "    model.predict_one(X)\n",
    "    correct.append(y == model.predict_one(X))\n",
    "    \n",
    "    model.learn_one(X,y)\n"
   ]
  },
  {
   "cell_type": "code",
   "execution_count": null,
   "id": "58dc4175-21ca-4c66-a65e-83b2d7b66bdc",
   "metadata": {},
   "outputs": [],
   "source": [
    "# this model is learning quite stable from the start\n",
    "\n",
    "import matplotlib.pyplot as plt\n",
    "import numpy as np\n",
    "\n",
    "plt.plot(np.cumsum(correct))\n"
   ]
  },
  {
   "cell_type": "code",
   "execution_count": null,
   "id": "e0930490-36c1-4ddd-98ca-4bc611c60171",
   "metadata": {},
   "outputs": [],
   "source": [
    "# model was not so good on out of sample\n",
    "accuracy_score(test['setosa'],model.predict_many(test[['sepal_length', 'sepal_width', 'petal_length', 'petal_width']]))\n"
   ]
  },
  {
   "cell_type": "code",
   "execution_count": null,
   "id": "dc72a1bc-3a0c-4c31-bbb4-117d28020a8f",
   "metadata": {},
   "outputs": [],
   "source": [
    "# add a stratified train test split\n",
    "from sklearn.model_selection import train_test_split\n",
    "train,test = train_test_split(data, stratify =data['class'])\n"
   ]
  },
  {
   "cell_type": "code",
   "execution_count": null,
   "id": "c6a82b51-0bed-4b97-9ad9-dad159325e2d",
   "metadata": {},
   "outputs": [],
   "source": [
    "from river import linear_model,metrics,multiclass\n",
    "model =  multiclass.OneVsRestClassifier(linear_model.LogisticRegression())\n",
    "correct = []\n",
    "\n",
    "for i,row in train.sample(frac=1).iterrows():\n",
    "    X = row[['sepal_length', 'sepal_width', 'petal_length', 'petal_width']]\n",
    "    X = X.to_dict()\n",
    "    \n",
    "    y = row['class']\n",
    "    \n",
    "    model.predict_one(X)\n",
    "    correct.append(y == model.predict_one(X))\n",
    "\n",
    "    model.learn_one(X,y)\n"
   ]
  },
  {
   "cell_type": "code",
   "execution_count": null,
   "id": "289ed98f-b721-41d9-9cdd-2ec8df0dc9ac",
   "metadata": {},
   "outputs": [],
   "source": [
    "# this model predicts better after 40 observations\n",
    "\n",
    "import matplotlib.pyplot as plt\n",
    "import numpy as np\n",
    "\n",
    "plt.plot(np.cumsum(correct))\n"
   ]
  },
  {
   "cell_type": "code",
   "execution_count": null,
   "id": "62e9471c-6218-4198-af7a-eb779b88e965",
   "metadata": {},
   "outputs": [],
   "source": [
    "model.predict_many(test[['sepal_length', 'sepal_width', 'petal_length', 'petal_width']])"
   ]
  },
  {
   "cell_type": "code",
   "execution_count": null,
   "id": "1d8e4cd9-00c2-4116-aec2-17892529db84",
   "metadata": {},
   "outputs": [],
   "source": [
    "# model scores 0.63 on the test data\n",
    "from sklearn.metrics import accuracy_score\n",
    "accuracy_score(test['class'],model.predict_many(test[['sepal_length', 'sepal_width', 'petal_length', 'petal_width']]))\n"
   ]
  }
 ],
 "metadata": {
  "kernelspec": {
   "display_name": "Python 3",
   "language": "python",
   "name": "python3"
  },
  "language_info": {
   "codemirror_mode": {
    "name": "ipython",
    "version": 3
   },
   "file_extension": ".py",
   "mimetype": "text/x-python",
   "name": "python",
   "nbconvert_exporter": "python",
   "pygments_lexer": "ipython3",
   "version": "3.8.8"
  }
 },
 "nbformat": 4,
 "nbformat_minor": 5
}
