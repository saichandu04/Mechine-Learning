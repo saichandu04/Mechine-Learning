{
 "cells": [
  {
   "cell_type": "code",
   "execution_count": null,
   "id": "319ca000-d3a1-4c10-83ec-92a88528c13a",
   "metadata": {},
   "outputs": [],
   "source": [
    "import pandas as pd\n",
    "nb_hrs_studies = [1, 2, 3, 4, 5, 6, 7, 8, 9, 10]\n",
    "avg_grade = [5.5, 5.8, 6.8, 7.2, 7.4, 7.8, 8.2, 8.8, 9.3, 9.4]\n",
    "data = pd.DataFrame({'nb_hrs_studies': nb_hrs_studies, 'avg_grade': avg_grade})\n",
    "data\n"
   ]
  },
  {
   "cell_type": "code",
   "execution_count": null,
   "id": "5d084cf7-0fe5-4575-9b45-28ee0d48d1e4",
   "metadata": {},
   "outputs": [],
   "source": [
    "import matplotlib.pyplot as plt\n",
    "plt.scatter(data['nb_hrs_studies'], data['avg_grade'])\n",
    "plt.xlabel('nb_hrs_studies')\n",
    "plt.ylabel('avg_grades')\n"
   ]
  },
  {
   "cell_type": "code",
   "execution_count": null,
   "id": "4172cc3d-3cc4-4b53-9cbe-19df682bed9e",
   "metadata": {},
   "outputs": [],
   "source": [
    "from sklearn.datasets import make_regression\n",
    "X,y = make_regression(n_samples=1000,n_features=5,n_informative=5,noise=100)\n"
   ]
  },
  {
   "cell_type": "code",
   "execution_count": null,
   "id": "9c669208-3609-4eca-ac95-650c93ac237e",
   "metadata": {},
   "outputs": [],
   "source": [
    "pd.DataFrame(X).describe()"
   ]
  },
  {
   "cell_type": "code",
   "execution_count": null,
   "id": "8a6cdb75-caee-4579-bac2-bb8bffd8ef94",
   "metadata": {},
   "outputs": [],
   "source": [
    "pd.Series(y).hist()"
   ]
  },
  {
   "cell_type": "code",
   "execution_count": null,
   "id": "a3e27cfc-c269-481f-92eb-2221e62e33f9",
   "metadata": {},
   "outputs": [],
   "source": [
    "from sklearn.model_selection import train_test_split\n",
    "X_train, X_test, y_train, y_test = train_test_split(X, y, test_size=0.33, random_state=42)\n"
   ]
  },
  {
   "cell_type": "code",
   "execution_count": null,
   "id": "447b541e-2ecc-40f8-b61d-8163c14031bf",
   "metadata": {},
   "outputs": [],
   "source": [
    "from river.linear_model import LinearRegression\n",
    "model = LinearRegression()\n"
   ]
  },
  {
   "cell_type": "code",
   "execution_count": null,
   "id": "dbeed50e-b19a-42fc-b0af-99647098f695",
   "metadata": {},
   "outputs": [],
   "source": [
    "# fit the model\n",
    "for x_i,y_i in zip(X_train,y_train):\n",
    "    x_json = {'val'+str(i): x for i,x in enumerate(x_i)}\n",
    "    model.learn_one(x_json,y_i)\n"
   ]
  },
  {
   "cell_type": "code",
   "execution_count": null,
   "id": "d0f4dc15-1ed4-4bda-b0bd-79baeb40c1fa",
   "metadata": {},
   "outputs": [],
   "source": [
    "# predict on the test set\n",
    "import pandas as pd\n",
    "preds = []\n",
    "for x_i in X_test:\n",
    "    x_json = {'val'+str(i): x for i,x in enumerate(x_i)}\n",
    "    preds.append(model.predict_one(x_json))\n"
   ]
  },
  {
   "cell_type": "code",
   "execution_count": null,
   "id": "7fe80df6-756a-4156-b655-732b2c2da5d6",
   "metadata": {},
   "outputs": [],
   "source": [
    "# compute accuracy\n",
    "from sklearn.metrics import r2_score\n",
    "r2_score(y_test, preds)\n"
   ]
  },
  {
   "cell_type": "code",
   "execution_count": null,
   "id": "803d8ef9-a53d-4cfb-9aa1-70f3c1633f07",
   "metadata": {},
   "outputs": [],
   "source": [
    "from river.tree import HoeffdingAdaptiveTreeRegressor\n",
    "model = HoeffdingAdaptiveTreeRegressor(seed=42)\n",
    "\n",
    "# fit the model\n",
    "for x_i,y_i in zip(X_train,y_train):\n",
    "    x_json = {'val'+str(i): x for i,x in enumerate(x_i)}\n",
    "    model.learn_one(x_json,y_i)\n",
    "\n",
    "# predict on the test set\n",
    "import pandas as pd\n",
    "preds = []\n",
    "for x_i in X_test:\n",
    "    x_json = {'val'+str(i): x for i,x in enumerate(x_i)}\n",
    "    preds.append(model.predict_one(x_json))\n",
    "\n",
    "# compute accuracy\n",
    "from sklearn.metrics import r2_score\n",
    "r2_score(y_test, preds)\n"
   ]
  },
  {
   "cell_type": "code",
   "execution_count": null,
   "id": "4bb58d02-e6b5-4bb4-a566-6a8bc0df8f3f",
   "metadata": {},
   "outputs": [],
   "source": [
    "def evaluate_HATR(grace_period, leaf_prediction, model_selector_decay):\n",
    "\n",
    "    # model pipeline\n",
    "    model = (\n",
    "        HoeffdingAdaptiveTreeRegressor(\n",
    "            grace_period=grace_period,\n",
    "            leaf_prediction=leaf_prediction,\n",
    "            model_selector_decay=model_selector_decay,\n",
    "            seed=42)\n",
    "    )\n",
    "\n",
    "    # fit the model\n",
    "    for x_i,y_i in zip(X_train,y_train):\n",
    "        x_json = {'val'+str(i): x for i,x in enumerate(x_i)}\n",
    "        model.learn_one(x_json,y_i)\n",
    "\n",
    "    # predict on the test set\n",
    "    preds = []\n",
    "    for x_i in X_test:\n",
    "        x_json = {'val'+str(i): x for i,x in enumerate(x_i)}\n",
    "        preds.append(model.predict_one(x_json))\n",
    "\n",
    "    # compute accuracy\n",
    "    return r2_score(y_test, preds)\n"
   ]
  },
  {
   "cell_type": "code",
   "execution_count": null,
   "id": "fa26a59f-fe79-4626-80a4-722ad1ffe367",
   "metadata": {},
   "outputs": [],
   "source": [
    "grace_periods=[0,5,10,]\n",
    "leaf_predictions=['mean','adaptive']\n",
    "model_selector_decays=[ 0.3, 0.8,  0.95]\n"
   ]
  },
  {
   "cell_type": "code",
   "execution_count": null,
   "id": "29d54344-ecf6-44b0-a38c-1728ddb543b9",
   "metadata": {},
   "outputs": [],
   "source": [
    "results = []\n",
    "i = 0\n",
    "for grace_period in grace_periods:\n",
    "    for leaf_prediction in leaf_predictions:\n",
    "        for model_selector_decay in model_selector_decays:\n",
    "            print(i)\n",
    "            i = i+1\n",
    "            results.append([grace_period, leaf_prediction, model_selector_decay,evaluate_HATR(grace_period, leaf_prediction, model_selector_decay)])\n"
   ]
  },
  {
   "cell_type": "code",
   "execution_count": null,
   "id": "face06cb-0ab6-4d03-8f74-5994c49a61d9",
   "metadata": {},
   "outputs": [],
   "source": [
    "pd.DataFrame(results, columns=['grace_period', 'leaf_prediction', 'model_selector_decay', 'r2_score' ]).sort_values('r2_score', ascending=False)"
   ]
  },
  {
   "cell_type": "code",
   "execution_count": null,
   "id": "d04452f1-c71d-46e9-93e0-f23e3d5ebecc",
   "metadata": {},
   "outputs": [],
   "source": [
    "from river.tree import SGTRegressor\n",
    "\n",
    "# model pipeline\n",
    "model = SGTRegressor()\n",
    "\n",
    "# fit the model\n",
    "for x_i,y_i in zip(X_train,y_train):\n",
    "    x_json = {'val'+str(i): x for i,x in enumerate(x_i)}\n",
    "    model.learn_one(x_json,y_i)\n",
    "\n",
    "# predict on the test set\n",
    "preds = []\n",
    "for x_i in X_test:\n",
    "    x_json = {'val'+str(i): x for i,x in enumerate(x_i)}\n",
    "    preds.append(model.predict_one(x_json))\n",
    "\n",
    "# compute accuracy\n",
    "r2_score(y_test, preds)\n"
   ]
  },
  {
   "cell_type": "code",
   "execution_count": null,
   "id": "a1113371-af9e-4792-92fe-94b1382e59e6",
   "metadata": {},
   "outputs": [],
   "source": [
    "from river.tree import SGTRegressor\n",
    "\n",
    "def evaluate_SGT(delta, lambda_value, grace_period):\n",
    "\n",
    "    # model pipeline \n",
    "    model = SGTRegressor(delta=delta,\n",
    "                        lambda_value=lambda_value,\n",
    "                        grace_period=grace_period,)\n",
    "\n",
    "    # fit the model\n",
    "    for x_i,y_i in zip(X_train,y_train):\n",
    "        x_json = {'val'+str(i): x for i,x in enumerate(x_i)}\n",
    "        model.learn_one(x_json,y_i)\n",
    "\n",
    "    # predict on the test set\n",
    "    preds = []\n",
    "    for x_i in X_test:\n",
    "        x_json = {'val'+str(i): x for i,x in enumerate(x_i)}\n",
    "        preds.append(model.predict_one(x_json))\n",
    "\n",
    "    # compute accuracy\n",
    "    return r2_score(y_test, preds)\n"
   ]
  },
  {
   "cell_type": "code",
   "execution_count": null,
   "id": "927f9c2d-89b7-4aed-80e6-c5a61f8523b9",
   "metadata": {},
   "outputs": [],
   "source": [
    "grace_periods=[0,10,25]\n",
    "lambda_values=[0.5, 0.8, 1.]\n",
    "deltas=[0.0001, 0.001, 0.01, 0.1]\n"
   ]
  },
  {
   "cell_type": "code",
   "execution_count": null,
   "id": "3e4c8817-b575-4643-b49c-80067554e51f",
   "metadata": {},
   "outputs": [],
   "source": [
    "results = []\n",
    "i = 0\n",
    "for grace_period in grace_periods:\n",
    "    for lambda_value in lambda_values:\n",
    "        for delta in deltas:\n",
    "            print(i)\n",
    "            i = i+1\n",
    "            result = evaluate_SGT(delta, lambda_value, grace_period)\n",
    "            print(result)\n",
    "            results.append([delta, lambda_value, grace_period,result])\n"
   ]
  },
  {
   "cell_type": "code",
   "execution_count": null,
   "id": "f8622e9e-8ffc-423c-9b9b-20e40ff4542b",
   "metadata": {},
   "outputs": [],
   "source": [
    "pd.DataFrame(results, columns=['delta', 'lambda_value', 'grace_period', 'r2_score' ]).sort_values('r2_score', ascending=False)"
   ]
  },
  {
   "cell_type": "code",
   "execution_count": null,
   "id": "552e2180-9928-4d95-a621-d632dca49a5c",
   "metadata": {},
   "outputs": [],
   "source": [
    "from river.ensemble import SRPRegressor\n",
    "\n",
    "# model pipeline \n",
    "base_model = LinearRegression()\n",
    "model = SRPRegressor(\n",
    "    model=base_model,\n",
    "    n_models=3,\n",
    "    seed=42\n",
    ")\n",
    "\n",
    "# fit the model\n",
    "for x_i,y_i in zip(X_train,y_train):\n",
    "    x_json = {'val'+str(i): x for i,x in enumerate(x_i)}\n",
    "    model.learn_one(x_json,y_i)\n",
    "\n",
    "# predict on the test set\n",
    "preds = []\n",
    "for x_i in X_test:\n",
    "    x_json = {'val'+str(i): x for i,x in enumerate(x_i)}\n",
    "    preds.append(model.predict_one(x_json))\n",
    "\n",
    "# compute accuracy\n",
    "r2_score(y_test, preds)\n"
   ]
  },
  {
   "cell_type": "code",
   "execution_count": null,
   "id": "3d8ee48f-9377-4ea1-9ce3-4ce8b39a64d3",
   "metadata": {},
   "outputs": [],
   "source": [
    "def evaluate_SRP(n_models):\n",
    "    # model pipeline \n",
    "    base_model = LinearRegression()\n",
    "    model = SRPRegressor(\n",
    "        model=base_model,\n",
    "        n_models=n_models,\n",
    "        seed=42\n",
    "    )\n",
    "\n",
    "    # fit the model\n",
    "    for x_i,y_i in zip(X_train,y_train):\n",
    "        x_json = {'val'+str(i): x for i,x in enumerate(x_i)}\n",
    "        model.learn_one(x_json,y_i)\n",
    "\n",
    "    # predict on the test set\n",
    "    preds = []\n",
    "    for x_i in X_test:\n",
    "        x_json = {'val'+str(i): x for i,x in enumerate(x_i)}\n",
    "        preds.append(model.predict_one(x_json))\n",
    "\n",
    "    # compute accuracy\n",
    "    return r2_score(y_test, preds)\n"
   ]
  },
  {
   "cell_type": "code",
   "execution_count": null,
   "id": "85a33245-83e7-4819-8274-58fb15bcf183",
   "metadata": {},
   "outputs": [],
   "source": [
    "results = []\n",
    "for n_models in range(1, 50):\n",
    "    results.append([n_models, evaluate_SRP(n_models)])\n"
   ]
  },
  {
   "cell_type": "code",
   "execution_count": null,
   "id": "504aaf32-6d4e-43ea-8616-494fd7ed4490",
   "metadata": {},
   "outputs": [],
   "source": [
    "pd.DataFrame(results,columns=['n_models', 'r2_score']).sort_values('r2_score', ascending=False)"
   ]
  },
  {
   "cell_type": "code",
   "execution_count": null,
   "id": "bb67b722-08b4-4d1c-99aa-7fb24e625d7b",
   "metadata": {},
   "outputs": [],
   "source": []
  }
 ],
 "metadata": {
  "kernelspec": {
   "display_name": "Python 3",
   "language": "python",
   "name": "python3"
  },
  "language_info": {
   "codemirror_mode": {
    "name": "ipython",
    "version": 3
   },
   "file_extension": ".py",
   "mimetype": "text/x-python",
   "name": "python",
   "nbconvert_exporter": "python",
   "pygments_lexer": "ipython3",
   "version": "3.8.8"
  }
 },
 "nbformat": 4,
 "nbformat_minor": 5
}
