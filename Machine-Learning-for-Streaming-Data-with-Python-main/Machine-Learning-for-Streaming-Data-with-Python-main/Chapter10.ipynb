{
 "cells": [
  {
   "cell_type": "code",
   "execution_count": null,
   "id": "ecb5527a-c2ed-4ebc-95c4-6c9609fdd192",
   "metadata": {},
   "outputs": [],
   "source": [
    "import numpy as np\n",
    "data = np.random.randint(0, 100, size=1000)\n"
   ]
  },
  {
   "cell_type": "code",
   "execution_count": null,
   "id": "4333a2c7-d518-472a-9bcf-a314922b2e72",
   "metadata": {},
   "outputs": [],
   "source": [
    "import matplotlib.pyplot as plt\n",
    "plt.hist(data)"
   ]
  },
  {
   "cell_type": "code",
   "execution_count": null,
   "id": "eee2be72-dd53-4113-92a9-e46f95ecb5a9",
   "metadata": {},
   "outputs": [],
   "source": [
    "from river import preprocessing\n",
    "\n",
    "# convert the data to required format\n",
    "data_stream = [{'x':float(x)} for x in list(data)]\n",
    "\n",
    "# initialize list for scaled values\n",
    "data_scaled = []\n",
    "\n",
    "# initialize scaler\n",
    "my_scaler = preprocessing.MinMaxScaler()\n",
    "\n",
    "# streaming\n",
    "for observation in data_stream:\n",
    "\n",
    "  # learn (update)\n",
    "  my_scaler.learn_one(observation)\n",
    "\n",
    "  # scale the observation\n",
    "  scaled_obs = my_scaler.transform_one(observation)\n",
    "  \n",
    "  # store the scaled result\n",
    "  data_scaled.append(scaled_obs['x'])\n"
   ]
  },
  {
   "cell_type": "code",
   "execution_count": null,
   "id": "79b332cb-1f15-46e0-bec5-8b5e841ba949",
   "metadata": {},
   "outputs": [],
   "source": [
    "import matplotlib.pyplot as plt\n",
    "plt.hist(data_scaled)\n"
   ]
  },
  {
   "cell_type": "code",
   "execution_count": null,
   "id": "7fdddefa-29fc-4b22-aa34-d2fdfbe39924",
   "metadata": {},
   "outputs": [],
   "source": [
    "import numpy as np\n",
    "data = np.random.normal(12, 15, size=1000)\n"
   ]
  },
  {
   "cell_type": "code",
   "execution_count": null,
   "id": "dd331383-2e4b-4bd6-9cf7-d1cef11f377c",
   "metadata": {},
   "outputs": [],
   "source": [
    "import matplotlib.pyplot as plt\n",
    "plt.hist(data)\n"
   ]
  },
  {
   "cell_type": "code",
   "execution_count": null,
   "id": "d7837051-19b0-49ed-9bb1-4ff8e2e93af2",
   "metadata": {},
   "outputs": [],
   "source": [
    "from river import preprocessing\n",
    "\n",
    "# convert the data to required format\n",
    "data_stream = [{'x':float(x)} for x in list(data)]\n",
    "\n",
    "# initialize list for scaled values\n",
    "data_scaled = []\n",
    "\n",
    "# initialize scaler\n",
    "my_scaler = preprocessing.StandardScaler()\n",
    "\n",
    "# streaming\n",
    "for observation in data_stream:\n",
    "\n",
    "  # learn (update)\n",
    "  my_scaler.learn_one(observation)\n",
    "\n",
    "  # scale the observation\n",
    "  scaled_obs = my_scaler.transform_one(observation)\n",
    "  \n",
    "  # store the scaled result\n",
    "  data_scaled.append(scaled_obs['x'])\n"
   ]
  },
  {
   "cell_type": "code",
   "execution_count": null,
   "id": "1e555002-82dd-4b50-955c-86fd6b228804",
   "metadata": {},
   "outputs": [],
   "source": [
    "plt.hist(data_scaled)"
   ]
  },
  {
   "cell_type": "code",
   "execution_count": null,
   "id": "b0288a03-88b2-4909-84f3-d66cba1104be",
   "metadata": {},
   "outputs": [],
   "source": [
    "import numpy as np\n",
    "import pandas as pd\n",
    "\n",
    "X1 = np.random.normal(5, 1, size=100)\n",
    "X2 = np.random.normal(5, 0.5, size=100)\n",
    "data = pd.DataFrame({'X1': X1, 'X2': X1 + X2})\n",
    "data.head()\n"
   ]
  },
  {
   "cell_type": "code",
   "execution_count": null,
   "id": "a972bf3d-2d16-40e1-997c-1ac6aac9ec3a",
   "metadata": {},
   "outputs": [],
   "source": [
    "import matplotlib.pyplot as plt\n",
    "plt.scatter(data['X1'], data['X2'])\n"
   ]
  },
  {
   "cell_type": "code",
   "execution_count": null,
   "id": "c4e8dd67-7c97-4cbc-a445-a3f9158c901f",
   "metadata": {},
   "outputs": [],
   "source": [
    "from sklearn.decomposition import PCA\n",
    "my_pca = PCA()\n",
    "transformed_data = my_pca.fit_transform(data)\n",
    "transformed_data = pd.DataFrame(transformed_data, columns = ['PC1', 'PC2'])\n",
    "transformed_data.head()\n"
   ]
  },
  {
   "cell_type": "code",
   "execution_count": null,
   "id": "498dd43a-d67c-4a3c-b805-67658ec790ff",
   "metadata": {},
   "outputs": [],
   "source": [
    "plt.scatter(transformed_data['PC1'], transformed_data['PC2'])\n",
    "plt.xlim(-4, 4)\n",
    "plt.ylim(-4, 4)\n",
    "plt.show()\n"
   ]
  },
  {
   "cell_type": "code",
   "execution_count": null,
   "id": "c15b6612-17ef-43c5-b2cf-dcf66517d620",
   "metadata": {},
   "outputs": [],
   "source": [
    "from sklearn.decomposition import IncrementalPCA\n",
    "my_incremental_pca = IncrementalPCA(batch_size = 10)\n",
    "transformed_data_2 = my_incremental_pca.fit_transform(data)\n",
    "transformed_data_2 = pd.DataFrame(transformed_data_2, columns = ['PC1', 'PC2'])\n",
    "transformed_data_2.head()\n"
   ]
  },
  {
   "cell_type": "code",
   "execution_count": null,
   "id": "03e194c1-2cbe-42c0-807d-6c1d3f075a74",
   "metadata": {},
   "outputs": [],
   "source": [
    "plt.scatter(transformed_data_2['PC1'], transformed_data_2['PC2'])\n",
    "plt.xlim(-4, 4)\n",
    "plt.ylim(-4, 4)\n",
    "plt.show()\n"
   ]
  }
 ],
 "metadata": {
  "kernelspec": {
   "display_name": "Python 3",
   "language": "python",
   "name": "python3"
  },
  "language_info": {
   "codemirror_mode": {
    "name": "ipython",
    "version": 3
   },
   "file_extension": ".py",
   "mimetype": "text/x-python",
   "name": "python",
   "nbconvert_exporter": "python",
   "pygments_lexer": "ipython3",
   "version": "3.8.8"
  }
 },
 "nbformat": 4,
 "nbformat_minor": 5
}
