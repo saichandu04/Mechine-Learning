{
 "cells": [
  {
   "cell_type": "code",
   "execution_count": null,
   "id": "ea9f5e06-833b-4b1d-b7d6-f4f5257dac87",
   "metadata": {},
   "outputs": [],
   "source": [
    "import pandas as pd\n",
    "data = pd.read_excel('chapter9datafile.xlsx')\n",
    "data\n"
   ]
  },
  {
   "cell_type": "code",
   "execution_count": null,
   "id": "d53dc351-f17b-4b57-9609-aa7bc8e76ab0",
   "metadata": {},
   "outputs": [],
   "source": [
    "data.groupby('Day')['Error'].mean()"
   ]
  },
  {
   "cell_type": "code",
   "execution_count": null,
   "id": "d1407188-495e-43f7-8a2f-056463ff4511",
   "metadata": {},
   "outputs": [],
   "source": [
    "data.groupby('Day')['Ground Truth'].mean()"
   ]
  },
  {
   "cell_type": "code",
   "execution_count": null,
   "id": "cbc9c62a-b438-4ee4-8fd2-32601033358f",
   "metadata": {},
   "outputs": [],
   "source": [
    "data.groupby('Day')[['X1', 'X2', 'X3']].mean()"
   ]
  }
 ],
 "metadata": {
  "kernelspec": {
   "display_name": "Python 3",
   "language": "python",
   "name": "python3"
  },
  "language_info": {
   "codemirror_mode": {
    "name": "ipython",
    "version": 3
   },
   "file_extension": ".py",
   "mimetype": "text/x-python",
   "name": "python",
   "nbconvert_exporter": "python",
   "pygments_lexer": "ipython3",
   "version": "3.8.8"
  }
 },
 "nbformat": 4,
 "nbformat_minor": 5
}
