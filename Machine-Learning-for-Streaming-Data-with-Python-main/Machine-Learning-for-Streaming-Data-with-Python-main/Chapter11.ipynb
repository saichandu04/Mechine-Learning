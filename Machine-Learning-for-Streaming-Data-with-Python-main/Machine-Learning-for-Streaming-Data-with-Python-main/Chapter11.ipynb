{
 "cells": [
  {
   "cell_type": "code",
   "execution_count": null,
   "id": "fd983319-246d-4df3-ba91-78d250657619",
   "metadata": {},
   "outputs": [],
   "source": [
    "import random\n",
    "X = [\n",
    "1, 1, 1, 2, 2, 2, 3, 3, 3, 4, 4, 4, 5, 5, 5, \n",
    "6, 6, 6, 7, 7, 7, 8, 8, 8, 9, 9, 9, 10, 10, 10\n",
    "]\n",
    "y = [\n",
    "x + random.random() for x in X[:15]] + \n",
    "[x * 2 + random.random() for x in X[15:]\n",
    "]\n"
   ]
  },
  {
   "cell_type": "code",
   "execution_count": null,
   "id": "c9a1d215-c9ee-4f58-9ee8-48ed4fbd949c",
   "metadata": {},
   "outputs": [],
   "source": [
    "import matplotlib.pyplot as plt\n",
    "plt.scatter(X, y)\n"
   ]
  },
  {
   "cell_type": "code",
   "execution_count": null,
   "id": "a640f08d-1062-43f8-902f-07bae781c8f7",
   "metadata": {},
   "outputs": [],
   "source": [
    "X_dict = [{'X': x} for x in X]\n",
    "\n",
    "for X_i, y_i in zip(X_dict, y):\n",
    "  print(X_i, y_i)\n"
   ]
  },
  {
   "cell_type": "code",
   "execution_count": null,
   "id": "2211f78e-d2a5-4e55-95c2-c501e15fbd94",
   "metadata": {},
   "outputs": [],
   "source": [
    "from river.neighbors import KNNRegressor\n",
    "my_knn = KNNRegressor(window_size=3)\n",
    "\n",
    "X_dict = [{'X': x} for x in X]\n",
    "\n",
    "for X_i, y_i in zip(X_dict, y):\n",
    "  my_knn.learn_one(X_i, y_i)\n"
   ]
  },
  {
   "cell_type": "code",
   "execution_count": null,
   "id": "621c024c-dc11-4804-8ce3-cc6baa5d0f4f",
   "metadata": {},
   "outputs": [],
   "source": [
    "preds = []\n",
    "for X_i in X_dict:\n",
    "  preds.append(my_knn.predict_one(X_i))\n",
    "\n",
    "sum_absolute_error = 0\n",
    "for pred, real in zip(preds, y):\n",
    "  sum_absolute_error += abs(pred - real)\n",
    "\n",
    "mean_absolute_error = sum_absolute_error / len(preds)\n",
    "print(mean_absolute_error)\n"
   ]
  },
  {
   "cell_type": "code",
   "execution_count": null,
   "id": "85aecd4f-1b5b-479b-a9c2-d613322b50ac",
   "metadata": {},
   "outputs": [],
   "source": [
    "my_knn = KNNRegressor(window_size=3)\n",
    "\n",
    "X_dict = [{'X': x} for x in X]\n",
    "\n",
    "step_by_step_error = []\n",
    "for i in range(len(X_dict)):\n",
    "  my_knn.learn_one(X_dict[i], y[i])\n",
    "  abs_error = abs(my_knn.predict_one(X_dict[i]) - y[i])\n",
    "  step_by_step_error.append(abs_error)\n"
   ]
  },
  {
   "cell_type": "code",
   "execution_count": null,
   "id": "4fcc7818-b976-495d-8b83-86ecf0dd94b8",
   "metadata": {},
   "outputs": [],
   "source": [
    "plt.plot(step_by_step_error)"
   ]
  },
  {
   "cell_type": "code",
   "execution_count": null,
   "id": "dd5d6eb9-de66-4435-bd7e-8ad6b435fab0",
   "metadata": {},
   "outputs": [],
   "source": [
    "preds = []\n",
    "for X_i in X_dict:\n",
    "  preds.append(my_knn.predict_one(X_i))\n",
    "\n",
    "all_errors = []\n",
    "for pred, real in zip(preds, y):\n",
    "  all_errors.append(abs(pred - real))\n",
    "\n",
    "plt.plot(step_by_step_error)\n",
    "plt.plot(all_errors)\n",
    "plt.show()\n"
   ]
  },
  {
   "cell_type": "code",
   "execution_count": null,
   "id": "0b1ff7e0-f48d-4a60-be33-0f3f81cd20da",
   "metadata": {},
   "outputs": [],
   "source": [
    "my_knn = KNNRegressor(window_size=3)\n",
    "\n",
    "X_dict = [{'X': x} for x in X]\n",
    "\n",
    "step_by_step_error = []\n",
    "\n",
    "for i in range(len(X_dict)):\n",
    "  my_knn.learn_one(X_dict[i], y[i])\n",
    "  abs_error = abs(my_knn.predict_one(X_dict[i]) - y[i])\n",
    "  step_by_step_error.append(abs_error)\n",
    "\n",
    "  all_errors_recomputed = []\n",
    "  for j in range(i):\n",
    "    orig_error = step_by_step_error[j]\n",
    "    after_error = abs(my_knn.predict_one(X_dict[j]) - y[j])\n",
    "    if after_error > orig_error:\n",
    "      print(f'At learning step {i}, data point {j} was partly forgotten')\n"
   ]
  },
  {
   "cell_type": "code",
   "execution_count": null,
   "id": "99118240-0d05-4716-870b-1261b806231c",
   "metadata": {},
   "outputs": [],
   "source": [
    "import pandas as pd\n",
    "ice_cream_sales = [10, 9, 8, 7, 6, 5, 4, 3, 2 , 1]\n",
    "degrees_celsius = [30, 25, 20, 19, 18, 17, 15, 13, 10, 5]\n",
    "price  = [2,2, 3, 3, 4, 4, 5, 5, 6, 6]\n",
    "\n",
    "data = pd.DataFrame({\n",
    "    'ice_cream_sales': ice_cream_sales,\n",
    "    'degrees_celsius': degrees_celsius,\n",
    "    'price': price\n",
    "})\n",
    "\n",
    "data\n"
   ]
  },
  {
   "cell_type": "code",
   "execution_count": null,
   "id": "b2bd5629-8422-4a70-8356-854b11174293",
   "metadata": {},
   "outputs": [],
   "source": [
    "plt.scatter(data['degrees_celsius'], data['ice_cream_sales'])"
   ]
  },
  {
   "cell_type": "code",
   "execution_count": null,
   "id": "b33a6cce-9242-4886-9e69-c79bebd7408a",
   "metadata": {},
   "outputs": [],
   "source": [
    "plt.scatter(data['price'], data['ice_cream_sales'])"
   ]
  },
  {
   "cell_type": "code",
   "execution_count": null,
   "id": "ab3f7670-77f1-4f29-9205-ca7098e09ffb",
   "metadata": {},
   "outputs": [],
   "source": [
    "from sklearn.linear_model import LinearRegression\n",
    "my_lr = LinearRegression()\n",
    "my_lr.fit(X = data[['degrees_celsius', 'price']], y = data['ice_cream_sales'])\n"
   ]
  },
  {
   "cell_type": "code",
   "execution_count": null,
   "id": "57015b90-e0ad-4aa0-ac3a-ef28340f38ad",
   "metadata": {},
   "outputs": [],
   "source": [
    "from sklearn.metrics import r2_score\n",
    "r2_score(data['ice_cream_sales'], my_lr.predict(data[['degrees_celsius', 'price']]))\n"
   ]
  },
  {
   "cell_type": "code",
   "execution_count": null,
   "id": "af25be30-1fc7-4ba3-867b-025718ee7262",
   "metadata": {},
   "outputs": [],
   "source": [
    "pd.DataFrame({'variable': ['degrees_celsius', 'price'], 'coefficient': my_lr.coef_})"
   ]
  },
  {
   "cell_type": "code",
   "execution_count": null,
   "id": "cf5415c1-64eb-47eb-8f73-b05c0ac1323d",
   "metadata": {},
   "outputs": [],
   "source": [
    "from sklearn.tree import DecisionTreeRegressor\n",
    "my_dt = DecisionTreeRegressor()\n",
    "my_dt.fit(X = data[['degrees_celsius', 'price']], y = data['ice_cream_sales'])\n"
   ]
  },
  {
   "cell_type": "code",
   "execution_count": null,
   "id": "24203d36-5b95-47ea-9343-9f42f5f01532",
   "metadata": {},
   "outputs": [],
   "source": [
    "r2_score(data['ice_cream_sales'], my_dt.predict(data[['degrees_celsius', 'price']]))"
   ]
  },
  {
   "cell_type": "code",
   "execution_count": null,
   "id": "cdf609fe-c52d-4506-a655-60645436db31",
   "metadata": {},
   "outputs": [],
   "source": [
    "import sklearn\n",
    "plt.figure(figsize=(15,15))\n",
    "sklearn.tree.plot_tree(my_dt)\n",
    "plt.show()\n"
   ]
  },
  {
   "cell_type": "code",
   "execution_count": null,
   "id": "9ceed132-b23e-4aba-9ba8-168bbe2f8e54",
   "metadata": {},
   "outputs": [],
   "source": [
    "pd.DataFrame({'variable': ['degrees_celsius', 'price'], 'importance': my_dt.feature_importances_})"
   ]
  }
 ],
 "metadata": {
  "kernelspec": {
   "display_name": "Python 3",
   "language": "python",
   "name": "python3"
  },
  "language_info": {
   "codemirror_mode": {
    "name": "ipython",
    "version": 3
   },
   "file_extension": ".py",
   "mimetype": "text/x-python",
   "name": "python",
   "nbconvert_exporter": "python",
   "pygments_lexer": "ipython3",
   "version": "3.8.8"
  }
 },
 "nbformat": 4,
 "nbformat_minor": 5
}
