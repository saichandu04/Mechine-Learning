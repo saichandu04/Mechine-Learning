{
 "cells": [
  {
   "cell_type": "code",
   "execution_count": null,
   "id": "e401d78b-5f4e-49d5-8be0-ebada3f8102e",
   "metadata": {},
   "outputs": [],
   "source": [
    "def super_simple_alert(datapoint):\n",
    "    if datapoint['temperature'] < 10:\n",
    "        print('this is a real time alert. temp too low')\n",
    "    if datapoint['pH'] > 5.5:\n",
    "        print('this is a real time alert. pH too high')\n"
   ]
  },
  {
   "cell_type": "code",
   "execution_count": null,
   "id": "2b122752-bd1b-4dc2-888c-e7ff24670a16",
   "metadata": {},
   "outputs": [],
   "source": [
    "import requests\n",
    "import json\n",
    "response = requests.get('http://www.google.com')\n",
    "print(response.status_code)\n",
    "print(response.text)\n"
   ]
  },
  {
   "cell_type": "code",
   "execution_count": null,
   "id": "753bafe0-af78-4a80-98c2-18cc4c00077e",
   "metadata": {},
   "outputs": [],
   "source": [
    "import requests\n",
    "import json\n",
    "data = {'temperature': 10, 'pH': 5.5}\n",
    "\n",
    "response = requests.post('http://www.example.com',data=data)\n",
    "\n",
    "print(response.status_code)\n",
    "print(response.text)\n"
   ]
  },
  {
   "cell_type": "code",
   "execution_count": null,
   "id": "eac79a98-002a-417e-a704-8809cf05837c",
   "metadata": {},
   "outputs": [],
   "source": [
    "import json\n",
    "\n",
    "def super_simple_alert(datapoint):\n",
    "    \n",
    "    answer = ''\n",
    "    if datapoint['temperature'] < 10:\n",
    "\n",
    "        answer += 'temp too low '\n",
    "    \n",
    "    if datapoint['pH'] > 5.5:\n",
    "        answer += 'pH too high '\n",
    "    \n",
    "    if answer == '':\n",
    "        answer = 'all good'\n",
    "\n",
    "    return answer\n",
    "\n",
    "def lambda_handler(event, context):\n",
    "    answer = super_simple_alert(event)\n",
    "    \n",
    "    return {\n",
    "        'statusCode': 200,\n",
    "        'body': json.dumps({'status': answer}),\n",
    "    }\n"
   ]
  },
  {
   "cell_type": "code",
   "execution_count": null,
   "id": "b836c834-9bee-4ba4-8874-b5251a8e4053",
   "metadata": {},
   "outputs": [],
   "source": [
    "import requests\n",
    "import json\n",
    "data = {'temperature': 8, 'pH': 4}\n",
    "response = requests.post('YOUR_URL', data = json.dumps(data))\n",
    "print(json.loads(response.text))\n"
   ]
  },
  {
   "cell_type": "code",
   "execution_count": null,
   "id": "a1417ac2-504a-4323-b80c-7a673e48e0bd",
   "metadata": {},
   "outputs": [],
   "source": [
    "from pyspark.sql import SparkSession\n",
    "from pyspark.sql.types import *\n",
    "\n",
    "spark = SparkSession \\\n",
    "    .builder \\\n",
    "    .appName(\"quickexample\") \\\n",
    "    .getOrCreate()\n",
    "\n",
    "schema = StructType([ StructField(\"value\", StringType(), True) ])\n",
    "\n",
    "streamingDF = (\n",
    "  spark\n",
    "    .readStream\n",
    "    .schema(schema)\n",
    "    .json('example.json')\n",
    ")\n",
    "\n",
    "display(streamingDF)\n"
   ]
  },
  {
   "cell_type": "code",
   "execution_count": null,
   "id": "dedbbd3a-77c5-40bc-8329-1308406b90b2",
   "metadata": {},
   "outputs": [],
   "source": []
  }
 ],
 "metadata": {
  "kernelspec": {
   "display_name": "Python 3",
   "language": "python",
   "name": "python3"
  },
  "language_info": {
   "codemirror_mode": {
    "name": "ipython",
    "version": 3
   },
   "file_extension": ".py",
   "mimetype": "text/x-python",
   "name": "python",
   "nbconvert_exporter": "python",
   "pygments_lexer": "ipython3",
   "version": "3.8.8"
  }
 },
 "nbformat": 4,
 "nbformat_minor": 5
}
