{
 "cells": [
  {
   "cell_type": "code",
   "execution_count": null,
   "id": "f3f1fe54-41e0-49e2-9b6d-b3a0ce7872f0",
   "metadata": {},
   "outputs": [],
   "source": [
    "import matplotlib.pyplot as plt\n",
    "import numpy as np\n",
    "import scipy.stats as stats\n",
    "\n",
    "x = np.linspace(-4,4, 100)\n",
    "plt.plot(x, stats.norm.pdf(x, 0, 1))=\n"
   ]
  },
  {
   "cell_type": "code",
   "execution_count": null,
   "id": "0246c4f1-0fcf-49cb-96ca-fe59e6c80a6b",
   "metadata": {},
   "outputs": [],
   "source": [
    "import numpy as np\n",
    "import matplotlib.pyplot as plt\n",
    "data = np.random.normal(size=10000000)\n",
    "plt.hist(data, bins=25)\n"
   ]
  },
  {
   "cell_type": "code",
   "execution_count": null,
   "id": "4c02cfff-d1af-4926-b198-9bd8e2a7c4c4",
   "metadata": {},
   "outputs": [],
   "source": [
    "min(data), max(data)"
   ]
  },
  {
   "cell_type": "code",
   "execution_count": null,
   "id": "3ab279ca-f7f1-4e50-9586-608fb36c4b8b",
   "metadata": {},
   "outputs": [],
   "source": [
    "import numpy as np\n",
    "normal_data = np.random.rand(1000)\n"
   ]
  },
  {
   "cell_type": "code",
   "execution_count": null,
   "id": "57e4fb04-a329-4a8c-9298-bc0d947d690d",
   "metadata": {},
   "outputs": [],
   "source": [
    "import matplotlib.pyplot as plt\n",
    "plt.hist(normal_data)\n"
   ]
  },
  {
   "cell_type": "code",
   "execution_count": null,
   "id": "715e59f0-8da4-4d52-9b51-93f24cf998f8",
   "metadata": {},
   "outputs": [],
   "source": [
    "hard_to_detect = list(np.random.uniform(1,2,size=int(0.005*1000))) + \\\n",
    "                  list(np.random.uniform(0,-1,size=int(0.005*1000)))\n",
    "\n",
    "easy_to_detect = list(np.random.uniform(2,3,size=int(0.005*1000))) + \\\n",
    "                  list(np.random.uniform(-1,-2,size=int(0.005*1000)))\n"
   ]
  },
  {
   "cell_type": "code",
   "execution_count": null,
   "id": "94c4a138-e625-4ca5-8581-46aee5feb9ef",
   "metadata": {},
   "outputs": [],
   "source": [
    "total_data = list(normal_data) + hard_to_detect + easy_to_detect\n",
    "\n",
    "import random\n",
    "random.shuffle(total_data)\n",
    "\n",
    "for datapoint in total_data:\n",
    "  pass\n"
   ]
  },
  {
   "cell_type": "code",
   "execution_count": null,
   "id": "0017e08a-45ae-4f71-bfb2-75f3ef451fe9",
   "metadata": {},
   "outputs": [],
   "source": [
    "# Anomaly percentage for the quantile thresholder\n",
    "expected_percentage_anomaly = 20/1020\n",
    "expected_percentage_normal = 1 - expected_percentage_anomaly\n"
   ]
  },
  {
   "cell_type": "code",
   "execution_count": null,
   "id": "48bd2534-1701-4bbd-8046-d115c2e351cc",
   "metadata": {},
   "outputs": [],
   "source": [
    "!pip install river\n",
    "from river import anomaly\n",
    "\n",
    "model = anomaly.QuantileThresholder(\n",
    "    anomaly.OneClassSVM(),\n",
    "    q=expected_percentage_normal\n",
    "    )\n",
    "\n",
    "for datapoint in total_data:\n",
    "    model = model.learn_one({'x': datapoint})\n"
   ]
  },
  {
   "cell_type": "code",
   "execution_count": null,
   "id": "95be4cae-780c-421d-b1ce-6cee71223639",
   "metadata": {},
   "outputs": [],
   "source": [
    "scores = []\n",
    "for datapoint in total_data:\n",
    "    scores.append(model.score_one({'x': datapoint}))\n"
   ]
  },
  {
   "cell_type": "code",
   "execution_count": null,
   "id": "c9ac27ea-f0bf-40c1-adf3-4825ea377378",
   "metadata": {},
   "outputs": [],
   "source": [
    "import pandas as pd\n",
    "results = pd.DataFrame({'data': total_data, 'score': scores})\n",
    "results['actual_outlier'] = (results['data'] > 1 ) | (results['data'] < 0)\n",
    "\n",
    "# there are 20 actual outliers\n",
    "results['actual_outlier'].value_counts()\n"
   ]
  },
  {
   "cell_type": "code",
   "execution_count": null,
   "id": "542177b9-50fe-436d-be1c-4dca7bc5cd33",
   "metadata": {},
   "outputs": [],
   "source": [
    "# the algo detected 22 outliers\n",
    "results['score'].value_counts()\n"
   ]
  },
  {
   "cell_type": "code",
   "execution_count": null,
   "id": "94efe177-0ca9-4b9e-84a7-1096f288c391",
   "metadata": {},
   "outputs": [],
   "source": [
    "# in the 22 detected otuliuers, 10 are actual outliers, but 12 are not actually outliers\n",
    "results.groupby('actual_outlier')['score'].sum()\n"
   ]
  },
  {
   "cell_type": "code",
   "execution_count": null,
   "id": "3e9fc877-7ff0-4436-8d39-dbd4ec582204",
   "metadata": {},
   "outputs": [],
   "source": [
    "from river import anomaly\n",
    "\n",
    "model2 = anomaly.QuantileThresholder(\n",
    "    anomaly.HalfSpaceTrees(),\n",
    "    q=expected_percentage_normal\n",
    "    )\n",
    "\n",
    "for datapoint in total_data:\n",
    "    model2 = model2.learn_one({'x': datapoint})\n",
    "\n",
    "\n",
    "scores2 = []\n",
    "for datapoint in total_data:\n",
    "    scores2.append(model2.score_one({'x': datapoint}))\n",
    "    \n",
    "import pandas as pd\n",
    "results2 = pd.DataFrame({'data': total_data, 'score': scores2})\n",
    "results2['actual_outlier'] = (results2['data'] > 1 ) | (results2['data'] < 0)\n",
    "\n",
    "# there are 20 actual outliers\n",
    "results2['actual_outlier'].value_counts()\n"
   ]
  },
  {
   "cell_type": "code",
   "execution_count": null,
   "id": "95d33fbf-fc21-4d71-a10c-dca055e8d451",
   "metadata": {},
   "outputs": [],
   "source": [
    "# the algo detected 29 outliers\n",
    "results2['score'].value_counts()\n"
   ]
  },
  {
   "cell_type": "code",
   "execution_count": null,
   "id": "c484c9c7-a628-46d9-bf7d-2c236390080c",
   "metadata": {},
   "outputs": [],
   "source": [
    "# the 29 detected outliers are not actually outliers\n",
    "results2.groupby('actual_outlier')['score'].sum()\n"
   ]
  },
  {
   "cell_type": "code",
   "execution_count": null,
   "id": "eb107ec5-11d4-40b4-a873-70c797a9c2fe",
   "metadata": {},
   "outputs": [],
   "source": []
  }
 ],
 "metadata": {
  "kernelspec": {
   "display_name": "Python 3",
   "language": "python",
   "name": "python3"
  },
  "language_info": {
   "codemirror_mode": {
    "name": "ipython",
    "version": 3
   },
   "file_extension": ".py",
   "mimetype": "text/x-python",
   "name": "python",
   "nbconvert_exporter": "python",
   "pygments_lexer": "ipython3",
   "version": "3.8.8"
  }
 },
 "nbformat": 4,
 "nbformat_minor": 5
}
