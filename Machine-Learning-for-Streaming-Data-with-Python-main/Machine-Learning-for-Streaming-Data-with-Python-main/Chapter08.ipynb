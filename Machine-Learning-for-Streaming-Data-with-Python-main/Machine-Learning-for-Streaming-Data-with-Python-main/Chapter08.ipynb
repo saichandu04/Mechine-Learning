{
 "cells": [
  {
   "cell_type": "code",
   "execution_count": null,
   "id": "7fec1c20-7098-47d1-bd48-00cd58f5020d",
   "metadata": {},
   "outputs": [],
   "source": [
    "import numpy as np\n",
    "import matplotlib.pyplot as plt\n",
    "import random\n",
    "\n",
    "starting = 0\n",
    "values = [starting]\n",
    "for i in range(30000):\n",
    "    values.append(values[-1] + np.random.normal())\n",
    "\n",
    "values = (values - np.mean(values)) / np.std(values)\n",
    "plt.plot(values)\n"
   ]
  },
  {
   "cell_type": "code",
   "execution_count": null,
   "id": "0f223c4f-c158-4ffe-8905-3d77bb4dd074",
   "metadata": {},
   "outputs": [],
   "source": [
    "rounded_values = []\n",
    "for value in values:\n",
    "    rounded_values.append(round(value, 1))\n",
    "\n",
    "plt.plot(rounded_values)\n"
   ]
  },
  {
   "cell_type": "code",
   "execution_count": null,
   "id": "f8617fe0-7128-4abb-a5d0-26e536384d1c",
   "metadata": {},
   "outputs": [],
   "source": [
    "states = set(rounded_values)\n",
    "import pandas as pd\n",
    "policy = pd.DataFrame(0, index=states, columns=['buy', 'sell'])\n"
   ]
  },
  {
   "cell_type": "code",
   "execution_count": null,
   "id": "29dea257-780c-4f19-acab-24e932d2b213",
   "metadata": {},
   "outputs": [],
   "source": [
    "def find_action(policy, current_value):\n",
    "    \n",
    "    if policy.loc[current_value,:].sum() == 0:\n",
    "        return random.choice([ 'buy', 'sell'])\n",
    "\n",
    "    return policy.columns[policy.loc[current_value,:].argmax()]\n"
   ]
  },
  {
   "cell_type": "code",
   "execution_count": null,
   "id": "2158f4f6-b300-4541-b984-e4c1d620d8f8",
   "metadata": {},
   "outputs": [],
   "source": [
    "def update_policy(reward, current_state_value, action):\n",
    "    \n",
    "    LEARNING_RATE = 0.1\n",
    "    MAX_REWARD = 10\n",
    "    DISCOUNT_FACTOR = 0.05\n",
    "    \n",
    "    return LEARNING_RATE * (reward + DISCOUNT_FACTOR * MAX_REWARD - policy.loc[current_state_value,action])\n"
   ]
  },
  {
   "cell_type": "code",
   "execution_count": null,
   "id": "3700354d-9b60-4d57-8026-6df5d759120a",
   "metadata": {},
   "outputs": [],
   "source": [
    "past_state_value = 0\n",
    "past_action = 'buy'\n",
    "total_reward = 0.\n",
    "rewards = []\n",
    "\n",
    "for i, current_state_value in enumerate(rounded_values):\n",
    "    \n",
    "    # do the action\n",
    "    action = find_action(policy, current_state_value)\n",
    "    \n",
    "    \n",
    "    # also compute reward from previous action and update state\n",
    "    if past_action == 'buy':\n",
    "        reward = current_state_value - past_state_value\n",
    "        \n",
    "    if past_action == 'sell':\n",
    "        reward = past_state_value - current_state_value\n",
    "    \n",
    "    total_reward = total_reward + float(reward)\n",
    "    \n",
    "    policy.loc[current_state_value, action] = policy.loc[current_state_value, action] + update_policy(reward, current_state_value,action)\n",
    "    \n",
    "    #print(policy)\n",
    "    rewards.append(total_reward)\n",
    "    \n",
    "    past_action = action\n",
    "    past_state_value = current_state_value\n"
   ]
  },
  {
   "cell_type": "code",
   "execution_count": null,
   "id": "42f9a69b-6d7a-464e-aa4e-36f9a8d78039",
   "metadata": {},
   "outputs": [],
   "source": [
    "plt.plot(rewards)"
   ]
  },
  {
   "cell_type": "code",
   "execution_count": null,
   "id": "f389962d-7565-4a6e-bbae-50c546808744",
   "metadata": {},
   "outputs": [],
   "source": [
    "import seaborn as sns\n",
    "sns.heatmap(policy.sort_index())\n"
   ]
  }
 ],
 "metadata": {
  "kernelspec": {
   "display_name": "Python 3",
   "language": "python",
   "name": "python3"
  },
  "language_info": {
   "codemirror_mode": {
    "name": "ipython",
    "version": 3
   },
   "file_extension": ".py",
   "mimetype": "text/x-python",
   "name": "python",
   "nbconvert_exporter": "python",
   "pygments_lexer": "ipython3",
   "version": "3.8.8"
  }
 },
 "nbformat": 4,
 "nbformat_minor": 5
}
